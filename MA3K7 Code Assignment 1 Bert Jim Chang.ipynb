{
 "cells": [
  {
   "cell_type": "markdown",
   "metadata": {},
   "source": [
    "Bert Jim Chang, ID: 2205274"
   ]
  },
  {
   "cell_type": "code",
   "execution_count": 5,
   "metadata": {},
   "outputs": [
    {
     "name": "stdout",
     "output_type": "stream",
     "text": [
      "The bracelet: [1, 5, 6, 1, 7, 8, 5, 3, 8, 1, 9, 0, 9, 9, 8, 7, 5, 2, 7, 9, 6, 5, 1, 6, 7, 3, 0, 3, 3, 6, 9, 5, 4, 9, 3, 2, 5, 7, 2, 9, 1, 0, 1, 1, 2, 3, 5, 8, 3, 1, 4, 5, 9, 4, 3, 7, 0, 7, 7, 4, 1, 5]\n",
      "The length of the bracelet: 60\n",
      "Pairs left to be used: [(0, 0), (0, 2), (0, 4), (0, 5), (0, 6), (0, 8), (1, 3), (1, 8), (2, 0), (2, 1), (2, 2), (2, 4), (2, 6), (2, 8), (3, 4), (3, 9), (4, 0), (4, 2), (4, 4), (4, 6), (4, 7), (4, 8), (5, 0), (5, 5), (6, 0), (6, 2), (6, 3), (6, 4), (6, 6), (6, 8), (7, 1), (7, 6), (8, 0), (8, 2), (8, 4), (8, 6), (8, 8), (8, 9), (9, 2), (9, 7)]\n",
      "========================================================================\n",
      "The bracelet: [0, 0, 0]\n",
      "The length of the bracelet: 1\n",
      "Pairs left to be used: [(0, 2), (0, 4), (0, 5), (0, 6), (0, 8), (1, 3), (1, 8), (2, 0), (2, 1), (2, 2), (2, 4), (2, 6), (2, 8), (3, 4), (3, 9), (4, 0), (4, 2), (4, 4), (4, 6), (4, 7), (4, 8), (5, 0), (5, 5), (6, 0), (6, 2), (6, 3), (6, 4), (6, 6), (6, 8), (7, 1), (7, 6), (8, 0), (8, 2), (8, 4), (8, 6), (8, 8), (8, 9), (9, 2), (9, 7)]\n",
      "========================================================================\n",
      "The bracelet: [0, 2, 2, 4, 6, 0, 6, 6, 2, 8, 0, 8, 8, 6, 4, 0, 4, 4, 8, 2, 0, 2]\n",
      "The length of the bracelet: 20\n",
      "Pairs left to be used: [(0, 5), (1, 3), (1, 8), (2, 1), (2, 6), (3, 4), (3, 9), (4, 2), (4, 7), (5, 0), (5, 5), (6, 3), (6, 8), (7, 1), (7, 6), (8, 4), (8, 9), (9, 2), (9, 7)]\n",
      "========================================================================\n",
      "The bracelet: [0, 5, 5, 0, 5]\n",
      "The length of the bracelet: 3\n",
      "Pairs left to be used: [(1, 3), (1, 8), (2, 1), (2, 6), (3, 4), (3, 9), (4, 2), (4, 7), (6, 3), (6, 8), (7, 1), (7, 6), (8, 4), (8, 9), (9, 2), (9, 7)]\n",
      "========================================================================\n",
      "The bracelet: [1, 3, 4, 7, 1, 8, 9, 7, 6, 3, 9, 2, 1, 3]\n",
      "The length of the bracelet: 12\n",
      "Pairs left to be used: [(2, 6), (4, 2), (6, 8), (8, 4)]\n",
      "========================================================================\n",
      "The bracelet: [2, 6, 8, 4, 2, 6]\n",
      "The length of the bracelet: 4\n",
      "Pairs left to be used: []\n",
      "========================================================================\n",
      "Total number of pairs in all bracelets: 100\n"
     ]
    }
   ],
   "source": [
    "#function to generate all the possible pairs (of integers between 0 to 9 inclusive)\n",
    "def get_all_pairs():\n",
    "    all_pairs = []\n",
    "    for x in range(10):\n",
    "        for y in range(10):\n",
    "            all_pairs.append((x,y))\n",
    "    return all_pairs\n",
    "\n",
    "#make the bracelet from two starting numbers. stop when you repeat the first pair.\n",
    "def make_bracelet(number1, number2):\n",
    "    bracelet = [number1, number2]\n",
    "    taken_pairs = []\n",
    "    while (bracelet[-2], bracelet[-1]) not in taken_pairs:\n",
    "        taken_pairs.append((bracelet[-2], bracelet[-1]))\n",
    "        new_number = (bracelet[-2] + bracelet[-1]) % 10\n",
    "        bracelet.append(new_number)\n",
    "    return bracelet, taken_pairs\n",
    "\n",
    "#get rid of the pairs that were in the bracelet you just made from the list of all remaining pairs\n",
    "def clean_all_pairs(used_pairs):\n",
    "    global all_pairs\n",
    "    all_pairs = [pair for pair in all_pairs if pair not in used_pairs]\n",
    "\n",
    "#add the pairs that were in the bracelet you just made to the used_pairs list\n",
    "#print the bracelet and related info\n",
    "#add the number of pairs that were in the bracelet just now to the total number of pairs\n",
    "def results(first_number, second_number):\n",
    "    global total_pairs\n",
    "    used_pairs = []\n",
    "    bracelet, pairs = make_bracelet(first_number, second_number)\n",
    "    for pair in pairs:\n",
    "        used_pairs.append(pair)\n",
    "    # print('current', used_pairs)\n",
    "    print('The bracelet:', bracelet)\n",
    "    print('The length of the bracelet:', (len(bracelet)-2)) #subtract two as there are the two original numbers repeated at the end. note this is also the number of pairs.\n",
    "    total_pairs += len(used_pairs)\n",
    "    clean_all_pairs(used_pairs)\n",
    "    print('Pairs left to be used:',all_pairs)\n",
    "    print('========================================================================')\n",
    "\n",
    "#initialise the list of all pairs\n",
    "all_pairs = get_all_pairs()\n",
    "#initialise the total number of pairs to be 0 (we want this to be 100 in the end)\n",
    "total_pairs = 0\n",
    "\n",
    "#generate the bracelets (manually entered the original numbers for each bracelet according to code output after generating each of them)\n",
    "results(1,5)\n",
    "results(0,0)\n",
    "results(0,2)\n",
    "results(0,5)\n",
    "results(1,3)\n",
    "results(2,6)\n",
    "#print the total number of pairs (hopefully 100)\n",
    "print('Total number of pairs in all bracelets:', total_pairs)\n",
    "\n",
    "#for the decimal investigation\n",
    "# results(5,2.5)"
   ]
  },
  {
   "cell_type": "code",
   "execution_count": null,
   "metadata": {},
   "outputs": [],
   "source": []
  }
 ],
 "metadata": {
  "kernelspec": {
   "display_name": "Python 3",
   "language": "python",
   "name": "python3"
  },
  "language_info": {
   "codemirror_mode": {
    "name": "ipython",
    "version": 3
   },
   "file_extension": ".py",
   "mimetype": "text/x-python",
   "name": "python",
   "nbconvert_exporter": "python",
   "pygments_lexer": "ipython3",
   "version": "3.8.3rc1"
  }
 },
 "nbformat": 4,
 "nbformat_minor": 2
}
